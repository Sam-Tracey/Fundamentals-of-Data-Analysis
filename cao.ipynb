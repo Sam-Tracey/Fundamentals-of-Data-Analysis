{
 "cells": [
  {
   "cell_type": "markdown",
   "id": "1a876419-7731-4cb1-9c0f-1f6c262a7728",
   "metadata": {},
   "source": [
    "# Fundamentals of Data Analysis 2021\n",
    "---\n",
    "### Sam Tracey\n",
    "### December 2021\n",
    "### Analysis of CAO points 2019 / 2020 / 2021\n",
    "---"
   ]
  },
  {
   "cell_type": "code",
   "execution_count": 1,
   "id": "782b7e76-f001-4b89-afea-d55835935deb",
   "metadata": {},
   "outputs": [],
   "source": [
    "# Regular Expressions\n",
    "import re\n",
    "# Convenient HTTP Requests\n",
    "import requests as rq\n",
    "import csv\n",
    "import pandas as pd\n",
    "# Efficient working with datetimes\n",
    "import datetime as dt"
   ]
  },
  {
   "cell_type": "code",
   "execution_count": 2,
   "id": "4a880c01-edd4-4db4-9e4c-e976e654b626",
   "metadata": {},
   "outputs": [],
   "source": [
    "# Retrieve CAO points URL.\n",
    "resp = rq.get('http://www2.cao.ie/points/l8.php')"
   ]
  },
  {
   "cell_type": "markdown",
   "id": "7c41125b-1455-49b2-9e1a-7f98325cbf8a",
   "metadata": {
    "tags": []
   },
   "source": [
    "<br>\n",
    "\n",
    "## Save Original CAO 2021 Data Set.\n",
    "\n",
    "***\n"
   ]
  },
  {
   "cell_type": "code",
   "execution_count": 3,
   "id": "9cc18fb0-7d0e-41d7-a0b5-dfced20dbd35",
   "metadata": {},
   "outputs": [],
   "source": [
    "# Get The Current Date and Time\n",
    "now = dt.datetime.now()\n",
    "\n",
    "# Format as a string\n",
    "nowstr =  now.strftime('%Y%m%d_%H%M%S')"
   ]
  },
  {
   "cell_type": "code",
   "execution_count": 4,
   "id": "48b79685-69bf-4847-940a-f74b10727d4e",
   "metadata": {},
   "outputs": [],
   "source": [
    "# Create a File Path for the Original Data\n",
    "path = 'data/cao2021_' + nowstr + '.html'"
   ]
  },
  {
   "cell_type": "code",
   "execution_count": 5,
   "id": "a3c8c7c3-6be9-49d9-8191-62077e11a842",
   "metadata": {},
   "outputs": [],
   "source": [
    "# Server is using the incorrect encoding, we need to fix it.\n",
    "original_encoding = resp.encoding\n",
    "# Change to CP1252\n",
    "resp.encoding = 'cp1252'"
   ]
  },
  {
   "cell_type": "code",
   "execution_count": 6,
   "id": "4ede7cb4-b9ae-4b6a-aaa3-04fb8b6b776b",
   "metadata": {},
   "outputs": [],
   "source": [
    "# Save the Original html file\n",
    "with open(path, 'w') as f:\n",
    "    f.write(resp.text)"
   ]
  },
  {
   "cell_type": "markdown",
   "id": "486da753-1482-4ca2-977e-31313aeda2b7",
   "metadata": {},
   "source": [
    "<br>\n",
    "\n",
    "## Use Regular Expressions to Select Correrct Lines\n",
    "\n",
    "***"
   ]
  },
  {
   "cell_type": "code",
   "execution_count": 7,
   "id": "12bbafe8-d70c-4436-9809-29c9baf1be7a",
   "metadata": {
    "tags": []
   },
   "outputs": [],
   "source": [
    "#Compile Regular Expression for Matching Lines.\n",
    "#re_course = re.compile('([A-Z]{2}[0-9]{3})  (.*?) (\\#?|([0-9]{4}|[0-9]{3})|\\*?)  (.*?)')\n",
    "re_course = re.compile(r'([A-Z]{2}[0-9]{3})  (.*?)([0-9]{3,5})(\\*?) *')\n"
   ]
  },
  {
   "cell_type": "markdown",
   "id": "a8398af4-70c3-430d-be45-b044a10cd562",
   "metadata": {},
   "source": [
    "<br>\n",
    "\n",
    "## Loop Through the Lines of the Response and Write to .csv file\n",
    "\n",
    "***\n",
    " "
   ]
  },
  {
   "cell_type": "code",
   "execution_count": 8,
   "id": "dda8ace3-95cd-415a-8dd5-b60ebb4c3926",
   "metadata": {
    "scrolled": true,
    "tags": []
   },
   "outputs": [],
   "source": [
    "# Define path in which to save .csv file.\n",
    "path = 'data/cao2021_csv_' + nowstr + '.csv'\n",
    "# Open the csv file for writing in to.\n",
    "with open(path,'w', encoding='utf-8') as file:\n",
    "    # Loop through the lines of responses.\n",
    "    for line in resp.iter_lines():\n",
    "        # Match only the lines we want - those representing courses\n",
    "        if re_course.fullmatch(line.decode('cp1252')):\n",
    "            # Add comma delimiters after each grouping and decode line (using incorrect decoding!)\n",
    "            csv_ver = re_course.sub(r'\\1, \\2, \\3, \\4', line.decode('cp1252'))\n",
    "            \n",
    "            csv_ver = ' '.join(csv_ver.split())\n",
    "            csv_ver = re.sub('[#*]', '', csv_ver)\n",
    "            file.write(csv_ver + '\\n')\n",
    "            "
   ]
  },
  {
   "cell_type": "code",
   "execution_count": 9,
   "id": "36d53b3d-e497-45d4-aecc-80d4c57b846e",
   "metadata": {},
   "outputs": [],
   "source": [
    "# Read 2020 CAO points from .xslx URL\n",
    "Cao2020_Url = 'http://www2.cao.ie/points/CAOPointsCharts2020.xlsx'\n",
    "# Define Path for writing Data\n",
    "path = 'data/cao2020_csv_' + nowstr + '.csv'\n",
    "df = pd.read_excel(Cao2020_Url,\n",
    "                   sheet_name='PointsCharts2020_V2',\n",
    "                   skiprows=range(11),\n",
    "                   usecols = 'B,C,D,F',\n",
    "                   index_col=None, header=None)\n",
    "# Re-arrange columns to match structure of 2021 csv file.\n",
    "df = df[[2, 1, 3, 5]]\n",
    "df.to_csv(path, encoding='utf-8', index=False)"
   ]
  },
  {
   "cell_type": "code",
   "execution_count": 10,
   "id": "aba07be2-5d69-4b36-9a88-40bf75dda99f",
   "metadata": {},
   "outputs": [
    {
     "data": {
      "text/html": [
       "<div>\n",
       "<style scoped>\n",
       "    .dataframe tbody tr th:only-of-type {\n",
       "        vertical-align: middle;\n",
       "    }\n",
       "\n",
       "    .dataframe tbody tr th {\n",
       "        vertical-align: top;\n",
       "    }\n",
       "\n",
       "    .dataframe thead th {\n",
       "        text-align: right;\n",
       "    }\n",
       "</style>\n",
       "<table border=\"1\" class=\"dataframe\">\n",
       "  <thead>\n",
       "    <tr style=\"text-align: right;\">\n",
       "      <th></th>\n",
       "      <th>2</th>\n",
       "      <th>1</th>\n",
       "      <th>3</th>\n",
       "      <th>5</th>\n",
       "    </tr>\n",
       "  </thead>\n",
       "  <tbody>\n",
       "    <tr>\n",
       "      <th>0</th>\n",
       "      <td>AC120</td>\n",
       "      <td>International Business</td>\n",
       "      <td>209</td>\n",
       "      <td>NaN</td>\n",
       "    </tr>\n",
       "    <tr>\n",
       "      <th>1</th>\n",
       "      <td>AC137</td>\n",
       "      <td>Liberal Arts</td>\n",
       "      <td>252</td>\n",
       "      <td>NaN</td>\n",
       "    </tr>\n",
       "    <tr>\n",
       "      <th>2</th>\n",
       "      <td>AD101</td>\n",
       "      <td>First Year Art &amp; Design (Common Entry,portfolio)</td>\n",
       "      <td>#+matric</td>\n",
       "      <td>NaN</td>\n",
       "    </tr>\n",
       "    <tr>\n",
       "      <th>3</th>\n",
       "      <td>AD102</td>\n",
       "      <td>Graphic Design and Moving Image Design (portfo...</td>\n",
       "      <td>#+matric</td>\n",
       "      <td>NaN</td>\n",
       "    </tr>\n",
       "    <tr>\n",
       "      <th>4</th>\n",
       "      <td>AD103</td>\n",
       "      <td>Textile &amp; Surface Design and Jewellery &amp; Objec...</td>\n",
       "      <td>#+matric</td>\n",
       "      <td>NaN</td>\n",
       "    </tr>\n",
       "    <tr>\n",
       "      <th>...</th>\n",
       "      <td>...</td>\n",
       "      <td>...</td>\n",
       "      <td>...</td>\n",
       "      <td>...</td>\n",
       "    </tr>\n",
       "    <tr>\n",
       "      <th>1459</th>\n",
       "      <td>WD208</td>\n",
       "      <td>Manufacturing Engineering</td>\n",
       "      <td>188</td>\n",
       "      <td>NaN</td>\n",
       "    </tr>\n",
       "    <tr>\n",
       "      <th>1460</th>\n",
       "      <td>WD210</td>\n",
       "      <td>Software Systems Development</td>\n",
       "      <td>279</td>\n",
       "      <td>NaN</td>\n",
       "    </tr>\n",
       "    <tr>\n",
       "      <th>1461</th>\n",
       "      <td>WD211</td>\n",
       "      <td>Creative Computing</td>\n",
       "      <td>271</td>\n",
       "      <td>NaN</td>\n",
       "    </tr>\n",
       "    <tr>\n",
       "      <th>1462</th>\n",
       "      <td>WD212</td>\n",
       "      <td>Recreation and Sport Management</td>\n",
       "      <td>270</td>\n",
       "      <td>NaN</td>\n",
       "    </tr>\n",
       "    <tr>\n",
       "      <th>1463</th>\n",
       "      <td>WD230</td>\n",
       "      <td>Mechanical and Manufacturing Engineering</td>\n",
       "      <td>253</td>\n",
       "      <td>NaN</td>\n",
       "    </tr>\n",
       "  </tbody>\n",
       "</table>\n",
       "<p>1464 rows × 4 columns</p>\n",
       "</div>"
      ],
      "text/plain": [
       "          2                                                  1         3    5\n",
       "0     AC120                             International Business       209  NaN\n",
       "1     AC137                                       Liberal Arts       252  NaN\n",
       "2     AD101   First Year Art & Design (Common Entry,portfolio)  #+matric  NaN\n",
       "3     AD102  Graphic Design and Moving Image Design (portfo...  #+matric  NaN\n",
       "4     AD103  Textile & Surface Design and Jewellery & Objec...  #+matric  NaN\n",
       "...     ...                                                ...       ...  ...\n",
       "1459  WD208                          Manufacturing Engineering       188  NaN\n",
       "1460  WD210                       Software Systems Development       279  NaN\n",
       "1461  WD211                                 Creative Computing       271  NaN\n",
       "1462  WD212                    Recreation and Sport Management       270  NaN\n",
       "1463  WD230           Mechanical and Manufacturing Engineering       253  NaN\n",
       "\n",
       "[1464 rows x 4 columns]"
      ]
     },
     "execution_count": 10,
     "metadata": {},
     "output_type": "execute_result"
    }
   ],
   "source": [
    "df"
   ]
  },
  {
   "cell_type": "code",
   "execution_count": null,
   "id": "22cd57ac-27a1-4662-a886-25857de4471f",
   "metadata": {},
   "outputs": [],
   "source": []
  },
  {
   "cell_type": "code",
   "execution_count": null,
   "id": "a5dc2042-fdcd-4546-af0d-242ec6c8e5cb",
   "metadata": {},
   "outputs": [],
   "source": []
  },
  {
   "cell_type": "code",
   "execution_count": null,
   "id": "da6ad509-4c24-480f-b35a-468a68362d9b",
   "metadata": {},
   "outputs": [],
   "source": []
  },
  {
   "cell_type": "code",
   "execution_count": null,
   "id": "708b26b3-c676-438c-9846-0d4462a4f68f",
   "metadata": {},
   "outputs": [],
   "source": []
  },
  {
   "cell_type": "code",
   "execution_count": null,
   "id": "c10f75a5-b00d-45fb-9999-99aab040d252",
   "metadata": {},
   "outputs": [],
   "source": []
  },
  {
   "cell_type": "code",
   "execution_count": null,
   "id": "37612b45-b768-4488-9d1f-a83644efb140",
   "metadata": {},
   "outputs": [],
   "source": []
  },
  {
   "cell_type": "code",
   "execution_count": null,
   "id": "e773f3e4-89d2-4d4b-81aa-7e68db8953be",
   "metadata": {},
   "outputs": [],
   "source": []
  },
  {
   "cell_type": "code",
   "execution_count": null,
   "id": "c1edc011-6ea1-4a3b-ae2a-501acadfa269",
   "metadata": {},
   "outputs": [],
   "source": []
  },
  {
   "cell_type": "code",
   "execution_count": null,
   "id": "6ba01ac0-6ad5-4865-a737-89f8e2f58882",
   "metadata": {},
   "outputs": [],
   "source": []
  },
  {
   "cell_type": "code",
   "execution_count": null,
   "id": "9c8bde21-1931-4316-98ed-ec4fafa8a2e6",
   "metadata": {},
   "outputs": [],
   "source": []
  },
  {
   "cell_type": "code",
   "execution_count": null,
   "id": "fdaae1fd-6b24-48dc-9c9c-743bf3a917ff",
   "metadata": {},
   "outputs": [],
   "source": []
  },
  {
   "cell_type": "code",
   "execution_count": null,
   "id": "b1c8c4fa-163a-4ecb-b6ae-652e741c3684",
   "metadata": {},
   "outputs": [],
   "source": []
  },
  {
   "cell_type": "code",
   "execution_count": null,
   "id": "f63e05f7-a1b8-4746-9453-0821b4d18770",
   "metadata": {},
   "outputs": [],
   "source": []
  },
  {
   "cell_type": "code",
   "execution_count": null,
   "id": "350a8e13-bcbb-42de-94f5-c26893014c82",
   "metadata": {},
   "outputs": [],
   "source": []
  },
  {
   "cell_type": "markdown",
   "id": "14506259-b38e-4875-95ef-bcc007ba1d8a",
   "metadata": {},
   "source": [
    "## References\n",
    "\n",
    "[1:Real-Python_REGEX](https://realpython.com/python-web-scraping-practical-introduction/)\n",
    "\n",
    "[2:StackOverFlow-Iter_lines](https://stackoverflow.com/questions/16870648/python-read-website-data-line-by-line-when-available)\n",
    "\n",
    "[3:REGEX_Syntax](https://docs.python.org/3/library/re.html)\n",
    "\n",
    "[4:StackOverFlow-utf-8](https://stackoverflow.com/questions/13110629/decoding-utf-8-strings-in-python)\n",
    "\n",
    "[5:Understanding_ISO-8859-1](https://mincong.io/2019/04/07/understanding-iso-8859-1-and-utf-8/)\n"
   ]
  },
  {
   "cell_type": "code",
   "execution_count": null,
   "id": "d1cb1af6-5d0e-48e6-8bd5-9be5ecd389c1",
   "metadata": {},
   "outputs": [],
   "source": []
  }
 ],
 "metadata": {
  "kernelspec": {
   "display_name": "Python 3",
   "language": "python",
   "name": "python3"
  },
  "language_info": {
   "codemirror_mode": {
    "name": "ipython",
    "version": 3
   },
   "file_extension": ".py",
   "mimetype": "text/x-python",
   "name": "python",
   "nbconvert_exporter": "python",
   "pygments_lexer": "ipython3",
   "version": "3.8.8"
  }
 },
 "nbformat": 4,
 "nbformat_minor": 5
}
