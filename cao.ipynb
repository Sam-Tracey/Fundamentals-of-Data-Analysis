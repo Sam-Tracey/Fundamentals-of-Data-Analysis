{
 "cells": [
  {
   "cell_type": "code",
   "execution_count": null,
   "id": "8323bd32-5ec4-498b-9dfc-5c30802043c7",
   "metadata": {},
   "outputs": [],
   "source": [
    "'''\n",
    "Include a Jupyter notebook called cao.ipynb that contains the following.\n",
    "10% A clear and concise overview of how to load CAO points information from the\n",
    "CAO website into a pandas data frame [4], pitched as your classmates.\n",
    "20% A detailed comparison of CAO points in 2019, 2020, and 2021 using the function\u0002ality in pandas.\n",
    "10% Appropriate plots and other visualisations to enhance your notebook for viewers\n",
    "\n",
    "'''"
   ]
  }
 ],
 "metadata": {
  "kernelspec": {
   "display_name": "Python 3",
   "language": "python",
   "name": "python3"
  },
  "language_info": {
   "codemirror_mode": {
    "name": "ipython",
    "version": 3
   },
   "file_extension": ".py",
   "mimetype": "text/x-python",
   "name": "python",
   "nbconvert_exporter": "python",
   "pygments_lexer": "ipython3",
   "version": "3.8.8"
  }
 },
 "nbformat": 4,
 "nbformat_minor": 5
}
