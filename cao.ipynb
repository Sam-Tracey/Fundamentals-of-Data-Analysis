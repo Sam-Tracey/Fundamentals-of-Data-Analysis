{
 "cells": [
  {
   "cell_type": "markdown",
   "id": "1a876419-7731-4cb1-9c0f-1f6c262a7728",
   "metadata": {},
   "source": [
    "# Fundamentals of Data Analysis 2021\n",
    "---\n",
    "### Sam Tracey\n",
    "### December 2021\n",
    "### Analysis of CAO points 2019 / 2020 / 2021\n",
    "---"
   ]
  },
  {
   "cell_type": "code",
   "execution_count": null,
   "id": "782b7e76-f001-4b89-afea-d55835935deb",
   "metadata": {},
   "outputs": [],
   "source": []
  }
 ],
 "metadata": {
  "kernelspec": {
   "display_name": "Python 3",
   "language": "python",
   "name": "python3"
  },
  "language_info": {
   "codemirror_mode": {
    "name": "ipython",
    "version": 3
   },
   "file_extension": ".py",
   "mimetype": "text/x-python",
   "name": "python",
   "nbconvert_exporter": "python",
   "pygments_lexer": "ipython3",
   "version": "3.8.8"
  }
 },
 "nbformat": 4,
 "nbformat_minor": 5
}
